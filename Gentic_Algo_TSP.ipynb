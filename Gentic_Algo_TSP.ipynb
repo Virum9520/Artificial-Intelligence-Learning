{
  "nbformat": 4,
  "nbformat_minor": 0,
  "metadata": {
    "colab": {
      "provenance": [],
      "authorship_tag": "ABX9TyNtgmFUyu/U8Oo812FvLbZC",
      "include_colab_link": true
    },
    "kernelspec": {
      "name": "python3",
      "display_name": "Python 3"
    },
    "language_info": {
      "name": "python"
    }
  },
  "cells": [
    {
      "cell_type": "markdown",
      "metadata": {
        "id": "view-in-github",
        "colab_type": "text"
      },
      "source": [
        "<a href=\"https://colab.research.google.com/github/Virum9520/Artificial-Intelligence-Learning/blob/main/Gentic_Algo_TSP.ipynb\" target=\"_parent\"><img src=\"https://colab.research.google.com/assets/colab-badge.svg\" alt=\"Open In Colab\"/></a>"
      ]
    },
    {
      "cell_type": "code",
      "execution_count": null,
      "metadata": {
        "colab": {
          "base_uri": "https://localhost:8080/"
        },
        "id": "so9DfIEl8vSX",
        "outputId": "805df9e0-dbf9-411f-da36-73530881244c"
      },
      "outputs": [
        {
          "name": "stdout",
          "output_type": "stream",
          "text": [
            "Enter no of cities - 4\n"
          ]
        }
      ],
      "source": [
        "n = int(input(\"Enter no of cities - \"))"
      ]
    },
    {
      "cell_type": "code",
      "source": [
        "import random\n",
        "\n",
        "A = []\n",
        "\n",
        "for i in range(n):\n",
        "  a = []\n",
        "  for j in range(n):\n",
        "    a.append(int(input(f\"Enter distance {i},{j} = \")))\n",
        "  A.append(a)\n",
        "\n",
        "for i in range(len(A)):\n",
        "  A[i][i] = 0"
      ],
      "metadata": {
        "colab": {
          "base_uri": "https://localhost:8080/"
        },
        "id": "j5rLF66t-HgX",
        "outputId": "6134aecc-b98c-4780-c931-fcc7291c72b5"
      },
      "execution_count": null,
      "outputs": [
        {
          "name": "stdout",
          "output_type": "stream",
          "text": [
            "Enter distance 0,0 = 0\n",
            "Enter distance 0,1 = 3\n",
            "Enter distance 0,2 = 8\n",
            "Enter distance 0,3 = 2\n",
            "Enter distance 1,0 = 3\n",
            "Enter distance 1,1 = 0\n",
            "Enter distance 1,2 = 4\n",
            "Enter distance 1,3 = 9\n",
            "Enter distance 2,0 = 8\n",
            "Enter distance 2,1 = 4\n",
            "Enter distance 2,2 = 0\n",
            "Enter distance 2,3 = 5\n",
            "Enter distance 3,0 = 2\n",
            "Enter distance 3,1 = 9\n",
            "Enter distance 3,2 = 5\n",
            "Enter distance 3,3 = 0\n"
          ]
        }
      ]
    },
    {
      "cell_type": "code",
      "source": [
        "for row in A:\n",
        "  print(row)"
      ],
      "metadata": {
        "colab": {
          "base_uri": "https://localhost:8080/"
        },
        "id": "G6QFDYufANcA",
        "outputId": "ade5ae08-2af9-4e78-e527-6d2422169448"
      },
      "execution_count": null,
      "outputs": [
        {
          "output_type": "stream",
          "name": "stdout",
          "text": [
            "[0, 3, 8, 2]\n",
            "[3, 0, 4, 9]\n",
            "[8, 4, 0, 5]\n",
            "[2, 9, 5, 0]\n"
          ]
        }
      ]
    },
    {
      "cell_type": "code",
      "source": [
        "tour = [2,0,3,1]\n",
        "\n",
        "\n",
        "def fitness(tour):\n",
        "  distance = 0\n",
        "  for i in range(len(tour)):\n",
        "    if i!=n-1:\n",
        "      row = tour[i]\n",
        "      col = tour[i+1]\n",
        "      distance += A[row][col]\n",
        "    else:\n",
        "      row = tour[i]\n",
        "      col = tour[0]\n",
        "      distance += A[row][col]\n",
        "  return distance"
      ],
      "metadata": {
        "id": "bLHqtA6xAO6_"
      },
      "execution_count": null,
      "outputs": []
    },
    {
      "cell_type": "code",
      "source": [
        "fitness(tour)"
      ],
      "metadata": {
        "colab": {
          "base_uri": "https://localhost:8080/"
        },
        "id": "zfUFjhycEAi5",
        "outputId": "980d64f1-b7fc-4a6f-af16-74e336549b14"
      },
      "execution_count": null,
      "outputs": [
        {
          "output_type": "execute_result",
          "data": {
            "text/plain": [
              "23"
            ]
          },
          "metadata": {},
          "execution_count": 28
        }
      ]
    },
    {
      "cell_type": "code",
      "source": [
        "from itertools import permutations"
      ],
      "metadata": {
        "id": "vF2BPR9YECyU"
      },
      "execution_count": null,
      "outputs": []
    },
    {
      "cell_type": "code",
      "source": [
        "def all_sol(num):\n",
        "  cities = list(range(num))\n",
        "  tours = list(permutations(cities))\n",
        "  return tours"
      ],
      "metadata": {
        "id": "Lr1f8kMNG1Ar"
      },
      "execution_count": null,
      "outputs": []
    },
    {
      "cell_type": "code",
      "source": [
        "tours = all_sol(4)"
      ],
      "metadata": {
        "id": "I69IpZC1Rwrn"
      },
      "execution_count": null,
      "outputs": []
    },
    {
      "cell_type": "code",
      "execution_count": null,
      "metadata": {
        "id": "Cao5rbk7M50b"
      },
      "outputs": [],
      "source": [
        "def roulette_wheel(tours):\n",
        "  fitness_val = []\n",
        "  for tour in tours:\n",
        "    fitness_val.append(1/fitness(tour))\n"
      ]
    },
    {
      "cell_type": "code",
      "source": [
        "## Generate Randomly"
      ],
      "metadata": {
        "id": "0IYEmysNVrIq"
      },
      "execution_count": null,
      "outputs": []
    }
  ]
}